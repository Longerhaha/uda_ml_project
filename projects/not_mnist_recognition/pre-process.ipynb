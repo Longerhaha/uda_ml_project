{
 "cells": [
  {
   "cell_type": "code",
   "execution_count": 33,
   "metadata": {
    "collapsed": true
   },
   "outputs": [],
   "source": [
    "%matplotlib inline\n",
    "import os\n",
    "import matplotlib.pyplot as plt\n",
    "import numpy as np\n",
    "from scipy import ndimage\n",
    "from scipy import misc\n",
    "from IPython.display import display, Image\n",
    "import random as rd\n",
    "import time\n",
    "import h5py\n",
    "origin_root = '/home/hjh/code/git-learn/machine-learning/projects/digit_recognition'"
   ]
  },
  {
   "cell_type": "code",
   "execution_count": 18,
   "metadata": {
    "collapsed": false
   },
   "outputs": [
    {
     "name": "stdout",
     "output_type": "stream",
     "text": [
      "blank file already exist\n",
      "blank file already exist\n"
     ]
    }
   ],
   "source": [
    "os.chdir(origin_root)\n",
    "# create the blank class file\n",
    "def create_blank(train_or_test=0): #0 write train blank data    1 write test blank data:\n",
    "    if train_or_test:\n",
    "        os.chdir(os.path.join(origin_root,'pic_test_data'))\n",
    "    else:\n",
    "        os.chdir(os.path.join(origin_root,'pic_data'))\n",
    "    length = len(os.listdir('./A'))\n",
    "    os.chdir(os.path.join(os.getcwd(),'N'))\n",
    "    if len(os.listdir('.')) != 0:\n",
    "        print 'blank file already exist'\n",
    "    else:\n",
    "        mat = np.zeros([28,28])\n",
    "        for i in range(length): \n",
    "            save_file_name = str(i)+'.png'\n",
    "            misc.imsave(save_file_name,mat) \n",
    "create_blank() \n",
    "create_blank(train_or_test=1)"
   ]
  },
  {
   "cell_type": "code",
   "execution_count": 45,
   "metadata": {
    "collapsed": false
   },
   "outputs": [],
   "source": [
    "\n",
    "train_append_root = './train_h5_data'\n",
    "test_append_root = './test_h5_data'\n",
    "image_size = 28\n",
    "def process(start_num=0,number=0,train_or_test=0): #0 write train_data  1 write test_data\n",
    "    os.chdir(origin_root)\n",
    "    cwd = os.getcwd()\n",
    "    #print cwd\n",
    "    pic_root = 'No'#not exist the directory\n",
    "    for dir in os.listdir('.'):\n",
    "        if dir == 'pic_data':\n",
    "            pic_root = os.path.join('.',dir)#picture directory          \n",
    "    if pic_root != 'No':\n",
    "        if train_or_test:#deal test picture\n",
    "            os.chdir(test_append_root)    \n",
    "        else:#deal train picture\n",
    "            os.chdir(train_append_root) \n",
    "        current_file_num = len(os.listdir('.'))\n",
    "        #get the root of A,B,...N\n",
    "        pic_dict = {0:'A',1:'B',2:'C',3:'D',4:'E',5:'F',6:'G',7:'H',8:'I',9:'J',10:'N'}\n",
    "        #get the list root and picture of each class\n",
    "        dict_pic = {'A':None,'B':None,'C':None,'D':None,'E':None,'F':None,'G':None,'H':None,'I':None,'J':None,'N':None}\n",
    "        pic_root_dict = {'A':None,'B':None,'C':None,'D':None,'E':None,'F':None,'G':None,'H':None,'I':None,'J':None,'N':None}\n",
    "        for root in pic_dict.itervalues():\n",
    "            pic_root_dict[root] = cwd+'/pic_data/'+root\n",
    "            dict_pic[root] = os.listdir(pic_root_dict[root])\n",
    "        size_of_class = len(dict_pic['A']) -1   \n",
    "        exist_file_num = len(os.listdir('.'))#the exist number of h5 file\n",
    "        print 'exist file number is',exist_file_num\n",
    "        now_num = start_num\n",
    "        \n",
    "        while now_num < start_num + number:\n",
    "            if now_num < exist_file_num:\n",
    "                raise Exception('the start number picture should equal to',exist_file_num)\n",
    "            else:\n",
    "                pic_mat = []\n",
    "                save_name = ''\n",
    "                for cnt in range(5):#select five image root\n",
    "                    subroot = pic_dict[rd.randint(0,10)]\n",
    "                    save_name = save_name + subroot\n",
    "                    idx = rd.choice(range(size_of_class))\n",
    "                    list_idx = dict_pic[subroot][idx]\n",
    "                    #start = time.time()\n",
    "                    try:#read the picture data\n",
    "                        image_data = ndimage.imread(pic_root_dict[subroot]+'/'+list_idx)\n",
    "                        \n",
    "                        pic_mat.append(image_data)\n",
    "                        if image_data.shape != (image_size,image_size):\n",
    "                            raise Exception('Unexpected image shape:%s'%str(image_data.shape))    \n",
    "                    except IOError as e:\n",
    "                        print('Could not read file',now_num,pic_root_dict[subroot]+'/'+list_idx)\n",
    "                #to sure that we read the five image        \n",
    "                if len(pic_mat) == 5:\n",
    "                    merge_pic = pic_mat[0] \n",
    "                    for i in range(4):\n",
    "                        merge_pic = np.hstack((merge_pic,pic_mat[i+1]))  #combine matrix vertically\n",
    "                    save_name = str(now_num)+'_'+save_name  \n",
    "                    try:\n",
    "                        f = h5py.File(save_name+'.h5','w')              \n",
    "                        f['data'] = merge_pic\n",
    "                        #f['labels'] = save_name.split('_')[1]\n",
    "                        f.close() \n",
    "                        now_num = now_num + 1\n",
    "                    except IOError as e:\n",
    "                        print('create',save_name+'.h5','failed')\n",
    "                else:\n",
    "                    print ('the picture num is',len(pic_mat),'which is not equal to 5')\n",
    "                #print round(end_time-start_time,6)\n",
    "                if now_num % (number/10) == 0:\n",
    "                    print 'current data',now_num\n",
    "    else:\n",
    "        print 'picture root directory error'   \n",
    " \n",
    " "
   ]
  },
  {
   "cell_type": "code",
   "execution_count": 44,
   "metadata": {
    "collapsed": false
   },
   "outputs": [
    {
     "name": "stdout",
     "output_type": "stream",
     "text": [
      "exist file number is 0\n",
      "current data 7000\n",
      "('Could not read file', 7171, '/home/hjh/code/git-learn/machine-learning/projects/digit_recognition/pic_data/B/TmlraXNFRi1TZW1pQm9sZEl0YWxpYy5vdGY=.png')\n",
      "('the picture num is', 4, 'which is not equal to 5')\n",
      "('Could not read file', 9258, '/home/hjh/code/git-learn/machine-learning/projects/digit_recognition/pic_data/A/SG90IE11c3RhcmQgQlROIFBvc3Rlci50dGY=.png')\n",
      "('the picture num is', 4, 'which is not equal to 5')\n",
      "current data 14000\n",
      "('Could not read file', 17100, '/home/hjh/code/git-learn/machine-learning/projects/digit_recognition/pic_data/A/RnJlaWdodERpc3BCb29rSXRhbGljLnR0Zg==.png')\n",
      "('the picture num is', 4, 'which is not equal to 5')\n"
     ]
    },
    {
     "ename": "IndexError",
     "evalue": "list index out of range",
     "output_type": "error",
     "traceback": [
      "\u001b[0;31m---------------------------------------------------------------------------\u001b[0m",
      "\u001b[0;31mIndexError\u001b[0m                                Traceback (most recent call last)",
      "\u001b[0;32m<ipython-input-44-f099ef0d09a0>\u001b[0m in \u001b[0;36m<module>\u001b[0;34m()\u001b[0m\n\u001b[0;32m----> 1\u001b[0;31m \u001b[0mprocess\u001b[0m\u001b[0;34m(\u001b[0m\u001b[0mnumber\u001b[0m\u001b[0;34m=\u001b[0m\u001b[0;36m70000\u001b[0m\u001b[0;34m)\u001b[0m\u001b[0;34m\u001b[0m\u001b[0m\n\u001b[0m\u001b[1;32m      2\u001b[0m \u001b[0mprocess\u001b[0m\u001b[0;34m(\u001b[0m\u001b[0mnumber\u001b[0m\u001b[0;34m=\u001b[0m\u001b[0;36m20000\u001b[0m\u001b[0;34m,\u001b[0m\u001b[0mtrain_or_test\u001b[0m\u001b[0;34m=\u001b[0m\u001b[0;36m1\u001b[0m\u001b[0;34m)\u001b[0m\u001b[0;34m\u001b[0m\u001b[0m\n",
      "\u001b[0;32m<ipython-input-43-9c19a1451bf8>\u001b[0m in \u001b[0;36mprocess\u001b[0;34m(start_num, number, train_or_test)\u001b[0m\n\u001b[1;32m     40\u001b[0m                     \u001b[0msave_name\u001b[0m \u001b[0;34m=\u001b[0m \u001b[0msave_name\u001b[0m \u001b[0;34m+\u001b[0m \u001b[0msubroot\u001b[0m\u001b[0;34m\u001b[0m\u001b[0m\n\u001b[1;32m     41\u001b[0m                     \u001b[0midx\u001b[0m \u001b[0;34m=\u001b[0m \u001b[0mrd\u001b[0m\u001b[0;34m.\u001b[0m\u001b[0mchoice\u001b[0m\u001b[0;34m(\u001b[0m\u001b[0mrange\u001b[0m\u001b[0;34m(\u001b[0m\u001b[0msize_of_class\u001b[0m\u001b[0;34m)\u001b[0m\u001b[0;34m)\u001b[0m\u001b[0;34m\u001b[0m\u001b[0m\n\u001b[0;32m---> 42\u001b[0;31m                     \u001b[0mlist_idx\u001b[0m \u001b[0;34m=\u001b[0m \u001b[0mdict_pic\u001b[0m\u001b[0;34m[\u001b[0m\u001b[0msubroot\u001b[0m\u001b[0;34m]\u001b[0m\u001b[0;34m[\u001b[0m\u001b[0midx\u001b[0m\u001b[0;34m]\u001b[0m\u001b[0;34m\u001b[0m\u001b[0m\n\u001b[0m\u001b[1;32m     43\u001b[0m                     \u001b[0;31m#start = time.time()\u001b[0m\u001b[0;34m\u001b[0m\u001b[0;34m\u001b[0m\u001b[0m\n\u001b[1;32m     44\u001b[0m                     \u001b[0;32mtry\u001b[0m\u001b[0;34m:\u001b[0m\u001b[0;31m#read the picture data\u001b[0m\u001b[0;34m\u001b[0m\u001b[0m\n",
      "\u001b[0;31mIndexError\u001b[0m: list index out of range"
     ]
    }
   ],
   "source": [
    "process(number=70000) \n",
    "process(number=20000,train_or_test=1) "
   ]
  },
  {
   "cell_type": "code",
   "execution_count": 46,
   "metadata": {
    "collapsed": false
   },
   "outputs": [
    {
     "name": "stdout",
     "output_type": "stream",
     "text": [
      "exist file number is 17702\n",
      "current data 20916\n",
      "('Could not read file', 22459, '/home/hjh/code/git-learn/machine-learning/projects/digit_recognition/pic_data/A/RnJlaWdodERpc3BCb29rSXRhbGljLnR0Zg==.png')\n",
      "('the picture num is', 4, 'which is not equal to 5')\n",
      "current data 26145\n",
      "current data 31374\n",
      "current data 36603\n",
      "current data 41832\n",
      "current data 47061\n",
      "('Could not read file', 51301, '/home/hjh/code/git-learn/machine-learning/projects/digit_recognition/pic_data/A/RnJlaWdodERpc3BCb29rSXRhbGljLnR0Zg==.png')\n",
      "('the picture num is', 4, 'which is not equal to 5')\n",
      "current data 52290\n",
      "('Could not read file', 54070, '/home/hjh/code/git-learn/machine-learning/projects/digit_recognition/pic_data/A/Um9tYW5hIEJvbGQucGZi.png')\n",
      "('the picture num is', 4, 'which is not equal to 5')\n",
      "('Could not read file', 56374, '/home/hjh/code/git-learn/machine-learning/projects/digit_recognition/pic_data/D/VHJhbnNpdCBCb2xkLnR0Zg==.png')\n",
      "('the picture num is', 4, 'which is not equal to 5')\n",
      "current data 57519\n",
      "current data 62748\n",
      "('Could not read file', 67457, '/home/hjh/code/git-learn/machine-learning/projects/digit_recognition/pic_data/A/SG90IE11c3RhcmQgQlROIFBvc3Rlci50dGY=.png')\n",
      "('the picture num is', 4, 'which is not equal to 5')\n",
      "current data 67977\n",
      "exist file number is 0\n",
      "current data 2000\n",
      "current data 4000\n",
      "('Could not read file', 4180, '/home/hjh/code/git-learn/machine-learning/projects/digit_recognition/pic_data/A/Um9tYW5hIEJvbGQucGZi.png')\n",
      "('the picture num is', 4, 'which is not equal to 5')\n",
      "current data 6000\n",
      "current data 8000\n",
      "current data 10000\n",
      "current data 12000\n",
      "current data 14000\n",
      "current data 16000\n",
      "current data 18000\n",
      "current data 20000\n"
     ]
    }
   ],
   "source": [
    "process(start_num=17702,number=70000-17702) \n",
    "process(number=20000,train_or_test=1) "
   ]
  },
  {
   "cell_type": "code",
   "execution_count": 53,
   "metadata": {
    "collapsed": false
   },
   "outputs": [],
   "source": [
    "#display some pictures of train set and test set\n",
    "train_h5_root = 'train_h5_data'\n",
    "test_h5_root = 'test_h5_data'\n",
    "\n",
    "train_len = len(os.listdir(os.path.join(origin_root,train_h5_root)))\n",
    "test_len = len(os.listdir(os.path.join(origin_root,test_h5_root)))\n",
    "def display_image(train_or_test=0,iamge_num=5):\n",
    "    os.chdir(origin_root)\n",
    "    if train_or_test:\n",
    "        os.chdir(os.path.join(origin_root,test_h5_root))\n",
    "    else:\n",
    "        os.chdir(os.path.join(origin_root,train_h5_root))\n",
    "    \n",
    "    all_image_root = os.listdir('.')\n",
    "    len_all_image = len(all_image_root)\n",
    "    for i in range(iamge_num):\n",
    "        num = rd.choice(range(len_all_image))\n",
    "        f = h5py.File(all_image_root[num],'r')   #read h5 file\n",
    "        image_data = f['data']\n",
    "        plt.subplot(1,iamge_num,i+1)\n",
    "        plt.title(((all_image_root[num]).split('_')[1]).split('.')[0])\n",
    "        plt.imshow(image_data,'gray')\n",
    "        f.close()"
   ]
  },
  {
   "cell_type": "code",
   "execution_count": 55,
   "metadata": {
    "collapsed": false
   },
   "outputs": [
    {
     "data": {
      "image/png": "[encoded data removed]",
      "text/plain": [
       "<matplotlib.figure.Figure at 0x7f04ad6f57d0>"
      ]
     },
     "metadata": {},
     "output_type": "display_data"
    }
   ],
   "source": [
    "display_image()  "
   ]
  },
  {
   "cell_type": "code",
   "execution_count": 56,
   "metadata": {
    "collapsed": false
   },
   "outputs": [
    {
     "data": {
      "image/png": "[encoded data removed]",
      "text/plain": [
       "<matplotlib.figure.Figure at 0x7f04ab72ead0>"
      ]
     },
     "metadata": {},
     "output_type": "display_data"
    }
   ],
   "source": [
    "display_image(1) "
   ]
  },
  {
   "cell_type": "code",
   "execution_count": 68,
   "metadata": {
    "collapsed": false
   },
   "outputs": [
    {
     "name": "stdout",
     "output_type": "stream",
     "text": [
      "finish read data  10%\n",
      "finish read data  20%\n",
      "finish read data  30%\n",
      "finish read data  40%\n",
      "finish read data  50%\n",
      "finish read data  10%\n",
      "finish read data  20%\n",
      "finish read data  30%\n",
      "finish read data  40%\n",
      "finish read data  50%\n",
      "time cost 98 s\n",
      "train set (70000, 28, 140) (70000,)\n",
      "valid set (10000, 28, 140) (10000,)\n",
      "test set (10000, 28, 140) (10000,)\n"
     ]
    }
   ],
   "source": [
    "origin_root = '/home/hjh/code/git-learn/machine-learning/projects/digit_recognition'\n",
    "train_h5_root = './train_h5_data'\n",
    "test_h5_root = './test_h5_data'\n",
    "train_all_num = 70000\n",
    "test_all_num = 20000\n",
    "train_num = 70000\n",
    "test_num = 10000\n",
    "valid_num = 10000\n",
    "image_size = 28\n",
    "pixel_depth = 255.0\n",
    "def create_mat(train_or_test=0):\n",
    "    if train_or_test:\n",
    "        dataset = np.ndarray((test_num,image_size,5 * image_size),dtype=np.float32)\n",
    "        labels = np.ndarray(test_num,dtype='|S5')\n",
    "    else:\n",
    "        dataset = np.ndarray((train_num,image_size,5 * image_size),dtype=np.float32)\n",
    "        labels = np.ndarray(train_num,dtype='|S5')\n",
    "    return dataset,labels\n",
    "def read_data(train_or_test=0,start=0,read_num=0):\n",
    "    os.chdir(origin_root)\n",
    "    if train_or_test:\n",
    "        os.chdir(test_h5_root)\n",
    "        dataset,labels = create_mat(train_or_test=1)\n",
    "    else:\n",
    "        os.chdir(train_h5_root)\n",
    "        dataset,labels = create_mat(train_or_test=0)\n",
    "    data_list = os.listdir('.')\n",
    "    num = 0\n",
    "    all_num = len(data_list)\n",
    "    if len(data_list) in [train_all_num,test_all_num]:\n",
    "        for data_file in data_list[start:read_num]:\n",
    "            try:\n",
    "                #sequence = int(data_file.split('_')[0])\n",
    "                label = (data_file.split('_')[1]).split('.')[0]\n",
    "                #print label\n",
    "                labels[num] = label\n",
    "                #print type(labels[sequence]),labels[sequence]\n",
    "                f = h5py.File(data_file,'r')   #read h5 file\n",
    "                dataset[num,:,:] = f['data']\n",
    "                dataset[num,:,:] = (dataset[num,:,:] - pixel_depth/2)/pixel_depth\n",
    "                f.close()\n",
    "                num = num + 1\n",
    "            except IOError as e:\n",
    "                print 'read file',data_file,'error'\n",
    "            if num % (all_num/10) == 0:\n",
    "                print 'finish read data %3.0f%%'%(num*100.0/all_num)\n",
    "    else:\n",
    "        raise Exception('file num error!')\n",
    "    return dataset,labels\n",
    "\n",
    "start = time.time()\n",
    "train_datas,train_labels = read_data(read_num=train_num,train_or_test=0)\n",
    "valid_datas,valid_labels = read_data(read_num=valid_num,train_or_test=1)\n",
    "test_datas,test_labels = read_data(read_num=test_all_num,start=valid_num,train_or_test=1)\n",
    "end = time.time()\n",
    "print 'time cost %.0f s'%round(end-start,0)\n",
    "print 'train set',train_datas.shape,train_labels.shape\n",
    "print 'valid set',valid_datas.shape,valid_labels.shape\n",
    "print 'test set',test_datas.shape,test_labels.shape"
   ]
  },
  {
   "cell_type": "code",
   "execution_count": 69,
   "metadata": {
    "collapsed": false
   },
   "outputs": [
    {
     "name": "stdout",
     "output_type": "stream",
     "text": [
      "[[-0.3392157  -0.22941177 -0.10392157 ...,  0.29607844  0.39803922\n",
      "  -0.26078433]\n",
      " [-0.5        -0.5        -0.5        ...,  0.5         0.47254902\n",
      "  -0.08431373]\n",
      " [-0.49607843 -0.49215686 -0.48823529 ...,  0.27254903  0.0372549\n",
      "  -0.40196079]\n",
      " ..., \n",
      " [-0.49607843 -0.49215686 -0.48823529 ..., -0.5        -0.5        -0.5       ]\n",
      " [-0.5        -0.5        -0.5        ..., -0.5        -0.5        -0.5       ]\n",
      " [-0.3392157  -0.22941177 -0.10392157 ..., -0.5        -0.5        -0.5       ]] IJNAF\n",
      "[[-0.5        -0.5        -0.5        ...,  0.48823529  0.48039216\n",
      "   0.48039216]\n",
      " [-0.5        -0.5        -0.5        ...,  0.5         0.5         0.5       ]\n",
      " [-0.5        -0.5        -0.49607843 ..., -0.1        -0.10392157\n",
      "  -0.10392157]\n",
      " ..., \n",
      " [-0.5        -0.5        -0.49607843 ..., -0.1        -0.10392157\n",
      "  -0.10392157]\n",
      " [-0.5        -0.5        -0.5        ...,  0.5         0.5         0.5       ]\n",
      " [-0.5        -0.5        -0.5        ...,  0.48823529  0.48039216\n",
      "   0.48039216]] CGBEE\n",
      "[[-0.5        -0.5        -0.5        ..., -0.5        -0.5        -0.5       ]\n",
      " [-0.49215686 -0.5        -0.31568629 ..., -0.5        -0.5        -0.5       ]\n",
      " [-0.49607843 -0.5         0.28039217 ..., -0.5        -0.5        -0.5       ]\n",
      " ..., \n",
      " [-0.5        -0.47254902 -0.43725491 ..., -0.5        -0.5        -0.5       ]\n",
      " [-0.5        -0.5        -0.5        ..., -0.5        -0.5        -0.5       ]\n",
      " [-0.5        -0.5        -0.49607843 ..., -0.5        -0.5        -0.5       ]] BBDIN\n"
     ]
    }
   ],
   "source": [
    "print train_datas[0],train_labels[0]\n",
    "print valid_datas[0],valid_labels[0]\n",
    "print test_datas[0],test_labels[0]"
   ]
  },
  {
   "cell_type": "code",
   "execution_count": 70,
   "metadata": {
    "collapsed": false
   },
   "outputs": [
    {
     "name": "stdout",
     "output_type": "stream",
     "text": [
      "('Train:', (70000, 28, 140), (70000,))\n",
      "('Valid:', (10000, 28, 140), (10000,))\n",
      "('Test:', (10000, 28, 140), (10000,))\n"
     ]
    }
   ],
   "source": [
    "def randomize(dataset, labels):\n",
    "  permutation = np.random.permutation(labels.shape[0])\n",
    "  shuffled_dataset = dataset[permutation,:,:]\n",
    "  shuffled_label = labels[permutation]\n",
    "\n",
    "  return shuffled_dataset, shuffled_label\n",
    "train_datasets, train_labels = randomize(train_datas, train_labels)\n",
    "valid_datasets, valid_labels = randomize(valid_datas, valid_labels)\n",
    "test_datasets, test_labels = randomize(test_datas, test_labels)\n",
    "print('Train:', train_datasets.shape, train_labels.shape)\n",
    "print('Valid:', valid_datasets.shape, valid_labels.shape)\n",
    "print('Test:', test_datasets.shape, test_labels.shape)"
   ]
  },
  {
   "cell_type": "code",
   "execution_count": null,
   "metadata": {
    "collapsed": false
   },
   "outputs": [
    {
     "name": "stdout",
     "output_type": "stream",
     "text": [
      "success\n"
     ]
    }
   ],
   "source": [
    "from six.moves import cPickle as pickle\n",
    "os.chdir(origin_root)\n",
    "if 'merge_notMNIST.pickle' in os.listdir('.'):\n",
    "    print('merge_notMNIST.pickle file already exist')\n",
    "else:\n",
    "    pickle_file = os.path.join(origin_root, 'merge_notMNIST.pickle')\n",
    "    try:\n",
    "      f = open(pickle_file, 'wb')\n",
    "      save = {\n",
    "        'train_dataset': train_datasets,\n",
    "        'train_labels': train_labels,\n",
    "        'valid_dataset': valid_datasets,\n",
    "        'valid_labels': valid_labels,  \n",
    "        'test_dataset': test_datasets,\n",
    "        'test_labels': test_labels,\n",
    "        }\n",
    "      pickle.dump(save, f, pickle.HIGHEST_PROTOCOL)\n",
    "      f.close()\n",
    "    except Exception as e:\n",
    "      print('Unable to save data to', pickle_file, ':', e)\n",
    "    print('success')"
   ]
  },
  {
   "cell_type": "code",
   "execution_count": null,
   "metadata": {
    "collapsed": true
   },
   "outputs": [],
   "source": []
  }
 ],
 "metadata": {
  "kernelspec": {
   "display_name": "Python 2",
   "language": "python",
   "name": "python2"
  },
  "language_info": {
   "codemirror_mode": {
    "name": "ipython",
    "version": 2
   },
   "file_extension": ".py",
   "mimetype": "text/x-python",
   "name": "python",
   "nbconvert_exporter": "python",
   "pygments_lexer": "ipython2",
   "version": "2.7.13"
  }
 },
 "nbformat": 4,
 "nbformat_minor": 2
}
